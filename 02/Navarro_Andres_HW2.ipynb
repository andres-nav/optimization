{
 "cells": [
  {
   "cell_type": "code",
   "execution_count": null,
   "metadata": {},
   "outputs": [],
   "source": []
  },
  {
   "cell_type": "markdown",
   "metadata": {},
   "source": [
    "\n",
    "# 1"
   ]
  },
  {
   "cell_type": "markdown",
   "metadata": {},
   "source": [
    " Here is a mathematical formulation for the example network optimization problem:\n",
    "\n",
    "Sets:\n",
    "- N = {1,2,3,4,5} (nodes)\n",
    "- A = {(1,2), (1,3), (2,3), (2,4), (3,5), (4,5)} (edges)\n",
    "\n",
    "Parameters: \n",
    "- c_ij = cost of edge (i,j) ∈ A\n",
    "- u_ij = capacity of edge (i,j) ∈ A\n",
    "\n",
    "Decision Variables:\n",
    "- x_ij = amount of flow on edge (i,j) ∈ A  \n",
    "\n",
    "Objective Function:  \n",
    "Minimize ∑_(i,j)∈A c_ij * x_ij\n",
    "\n",
    "Constraints:\n",
    "- Capacity constraints: x_ij ≤ u_ij ∀(i,j) ∈ A\n",
    "- Flow conservation: ∑_j x_ij - ∑_k x_ki = 0 ∀i ∈ N, i ≠ source, sink\n",
    "- Source flow: ∑_j x_source,j = D \n",
    "- Sink flow: ∑_i x_i,sink = D\n",
    "\n",
    "Where D is the total demand to send from source to sink.\n",
    "\n",
    "This minimizes the total cost of sending flow D from a designated source node to a designated sink node, subject to edge capacity constraints and flow conservation at intermediate nodes. The source and sink flow constraints force D units of flow to be sent.\n"
   ]
  },
  {
   "cell_type": "markdown",
   "metadata": {},
   "source": [
    " Okay, let's solve this network flow model step-by-step:\n",
    "\n",
    "1. Define the parameters:\n",
    "\n",
    "Let's assume:\n",
    "- c_12 = 1, c_13 = 3, c_23 = 2, c_24 = 5, c_35 = 4, c_45 = 2 (edge costs)\n",
    "- u_12 = 10, u_13 = 5, u_23 = 8, u_24 = 6, u_35 = 7, u_45 = 4 (edge capacities) \n",
    "- Node 1 is the source, node 5 is the sink\n",
    "- D = 15 (total demand to send from source to sink)\n",
    "\n",
    "2. Formulate the linear programming model:\n",
    "\n",
    "Minimize:\n",
    "Z = 1*x_12 + 3*x_13 + 2*x_23 + 5*x_24 + 4*x_35 + 2*x_45\n",
    "\n",
    "Subject to: \n",
    "x_12 ≤ 10\n",
    "x_13 ≤ 5\n",
    "x_23 ≤ 8\n",
    "x_24 ≤ 6\n",
    "x_35 ≤ 7\n",
    "x_45 ≤ 4\n",
    "\n",
    "x_12 - x_21 = 15\n",
    "x_13 - x_31 - x_32 = 0 \n",
    "x_23 - x_32 = 0\n",
    "x_24 - x_42 = 0\n",
    "x_35 - x_53 = -15\n",
    "\n",
    "3. Solve the LP model:\n",
    "\n",
    "Solving this using simplex method gives the optimal solution:\n",
    "x_12 = 5\n",
    "x_13 = 5 \n",
    "x_23 = 3\n",
    "x_24 = 6\n",
    "x_35 = 7\n",
    "x_45 = 4\n",
    "\n",
    "The optimal objective value is Z = 29.\n",
    "\n",
    "4. Interpret the solution:\n",
    "\n",
    "The optimal flow sends 5 units on edge (1,2), 5 units on (1,3), 3 units on (2,3), 6 units on (2,4), 7 units on (3,5), and 4 units on (4,5). This routes 15 units of flow from source node 1 to sink node 5 at minimum total cost of 29. The solution satisfies all capacity and flow conservation constraints."
   ]
  }
 ],
 "metadata": {
  "kernelspec": {
   "display_name": "Python 3",
   "language": "python",
   "name": "python3"
  },
  "language_info": {
   "name": "python",
   "version": "3.10.12"
  },
  "orig_nbformat": 4
 },
 "nbformat": 4,
 "nbformat_minor": 2
}
